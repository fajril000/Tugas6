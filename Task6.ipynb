import numpy as np
import matplotlib.pyplot as plt
from sklearn.linear_model import LinearRegression

# Buat dataset sederhana
np.random.seed(0)
X = 2 * np.random.rand(100, 1)  # Fitur
y = 4 + 3 * X + np.random.randn(100, 1)  # Target (dengan sedikit noise)

# Plot dataset
plt.scatter(X, y)
plt.xlabel('Fitur')
plt.ylabel('Target')
plt.title('Dataset Sederhana untuk Latihan Regresi')
plt.show()

# Inisialisasi model regresi linear
model = LinearRegression()

# Latih model menggunakan data
model.fit(X, y)

# Prediksi target
y_pred = model.predict(X)

# Hitung R-squared
r2 = model.score(X, y)

# Hitung RMSE, MAE, MSE, dan MAPE
def rmse(y_true, y_pred):
    return np.sqrt(mean_squared_error(y_true, y_pred))

def mae(y_true, y_pred):
    return np.mean(np.abs(y_true - y_pred))

def mse(y_true, y_pred):
    return np.mean((y_true - y_pred)**2)

def mape(y_true, y_pred):
    return np.mean(np.abs((y_true - y_pred) / y_true)) * 100

rmse_score = rmse(y, y_pred)
mae_score = mae(y, y_pred)
mse_score = mse(y, y_pred)
mape_score = mape(y, y_pred)

# Tampilkan hasil
print("Koefisien (slope):", model.coef_[0][0])
print("Intersep:", model.intercept_[0])
print("R-squared:", r2)
print("RMSE:", rmse_score)
print("MAE:", mae_score)
print("MSE:", mse_score)
print("MAPE:", mape_score)

# Plot garis regresi
plt.plot(X, y_pred, color='red')
plt.show()
